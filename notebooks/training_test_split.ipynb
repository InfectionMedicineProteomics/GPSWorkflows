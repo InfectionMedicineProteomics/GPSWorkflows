{
 "cells": [
  {
   "cell_type": "code",
   "execution_count": 6,
   "metadata": {},
   "outputs": [],
   "source": [
    "import numpy as np\n",
    "import glob\n",
    "from gscore import preprocess"
   ]
  },
  {
   "cell_type": "code",
   "execution_count": 13,
   "metadata": {},
   "outputs": [],
   "source": [
    "input_files = glob.glob(\"\")"
   ]
  },
  {
   "cell_type": "code",
   "execution_count": 14,
   "metadata": {},
   "outputs": [
    {
     "name": "stdout",
     "output_type": "stream",
     "text": [
      "Loading data...\n"
     ]
    }
   ],
   "source": [
    "combined_labels_list = []\n",
    "combined_scores_list = []\n",
    "\n",
    "print(\"Loading data...\")\n",
    "\n",
    "for input_file in input_files:\n",
    "    \n",
    "    training_data_npz = preprocess.get_training_data_from_npz(input_file)\n",
    "\n",
    "    labels = training_data_npz[\"labels\"]\n",
    "    scores = training_data_npz[\"scores\"]\n",
    "\n",
    "    combined_labels_list.append(labels)\n",
    "    combined_scores_list.append(scores)\n",
    "\n",
    "combined_labels = np.concatenate(combined_labels_list)\n",
    "combined_scores = np.concatenate(combined_scores_list)"
   ]
  },
  {
   "cell_type": "code",
   "execution_count": 15,
   "metadata": {},
   "outputs": [],
   "source": [
    "from sklearn.model_selection import train_test_split\n",
    "\n",
    "training_data, testing_data, training_labels, testing_labels = train_test_split(\n",
    "    combined_scores, combined_labels, test_size=0.2, shuffle=True\n",
    ")"
   ]
  },
  {
   "cell_type": "code",
   "execution_count": 16,
   "metadata": {},
   "outputs": [],
   "source": [
    "file_path = \"\""
   ]
  },
  {
   "cell_type": "code",
   "execution_count": 17,
   "metadata": {},
   "outputs": [],
   "source": [
    "with open(file_path, \"wb\") as npfh:\n",
    "    np.savez(\n",
    "        npfh,\n",
    "        labels=training_labels,\n",
    "        scores=training_data,\n",
    "    )"
   ]
  },
  {
   "cell_type": "code",
   "execution_count": 18,
   "metadata": {},
   "outputs": [],
   "source": [
    "file_path = \"\"\n",
    "\n",
    "with open(file_path, \"wb\") as npfh:\n",
    "    np.savez(\n",
    "        npfh,\n",
    "        labels=testing_labels,\n",
    "        scores=testing_data,\n",
    "    )"
   ]
  },
  {
   "cell_type": "code",
   "execution_count": null,
   "metadata": {},
   "outputs": [],
   "source": []
  }
 ],
 "metadata": {
  "interpreter": {
   "hash": "0facbbf39a3e6dd39f86e0ea860abdcaf2564b82488cedf86a92b22a44466222"
  },
  "kernelspec": {
   "display_name": "Python 3.8.6 ('ghostenv')",
   "language": "python",
   "name": "python3"
  },
  "language_info": {
   "codemirror_mode": {
    "name": "ipython",
    "version": 3
   },
   "file_extension": ".py",
   "mimetype": "text/x-python",
   "name": "python",
   "nbconvert_exporter": "python",
   "pygments_lexer": "ipython3",
   "version": "3.8.6"
  },
  "orig_nbformat": 4
 },
 "nbformat": 4,
 "nbformat_minor": 2
}
